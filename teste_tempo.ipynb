{
 "cells": [
  {
   "cell_type": "code",
   "execution_count": 33,
   "source": [
    "def hamilton(grafo, size, pt, path=[]):\n",
    "    if pt not in set(path):\n",
    "        path.append(pt)\n",
    "        if len(path)==size:\n",
    "            return path\n",
    "        for pt_next in grafo.get(pt, []):\n",
    "            res_path = [i for i in path]\n",
    "            candidate = hamilton(grafo, size, pt_next, res_path)\n",
    "            if candidate is not None:  # skip loop or dead end\n",
    "                return candidate \n",
    "        \n",
    "def square_sums_row(n):\n",
    "    \n",
    "    duplas = []\n",
    "    for x in range(1,n+1):\n",
    "        for y in range(1,n+1):\n",
    "            if ((x + y)**0.5).is_integer() and x != y:\n",
    "                duplas.append((x,y))\n",
    "    print(duplas)\n",
    "    print(\"-\"*20)\n",
    "    grafo = {}\n",
    "    for x in duplas:\n",
    "        if x[0] not in grafo:\n",
    "            grafo[x[0]] = [x[1]]\n",
    "        else:\n",
    "            grafo[x[0]].append(x[1])\n",
    "    print(grafo)\n",
    "    print(\"-\"*20)\n",
    "    resultado =[]\n",
    "    for x in range(1,n+1):\n",
    "        resultado = hamilton(grafo, n, x, [])\n",
    "        if resultado != None:\n",
    "            return resultado\n",
    "    \n",
    "    return False"
   ],
   "outputs": [],
   "metadata": {}
  },
  {
   "cell_type": "code",
   "execution_count": 36,
   "source": [
    "%%time\n",
    "n = 49\n",
    "\n",
    "print(\"Final : \", square_sums_row(n))"
   ],
   "outputs": [
    {
     "output_type": "stream",
     "name": "stdout",
     "text": [
      "[(1, 3), (1, 8), (1, 15), (1, 24), (1, 35), (1, 48), (2, 7), (2, 14), (2, 23), (2, 34), (2, 47), (3, 1), (3, 6), (3, 13), (3, 22), (3, 33), (3, 46), (4, 5), (4, 12), (4, 21), (4, 32), (4, 45), (5, 4), (5, 11), (5, 20), (5, 31), (5, 44), (6, 3), (6, 10), (6, 19), (6, 30), (6, 43), (7, 2), (7, 9), (7, 18), (7, 29), (7, 42), (8, 1), (8, 17), (8, 28), (8, 41), (9, 7), (9, 16), (9, 27), (9, 40), (10, 6), (10, 15), (10, 26), (10, 39), (11, 5), (11, 14), (11, 25), (11, 38), (12, 4), (12, 13), (12, 24), (12, 37), (13, 3), (13, 12), (13, 23), (13, 36), (14, 2), (14, 11), (14, 22), (14, 35), (15, 1), (15, 10), (15, 21), (15, 34), (15, 49), (16, 9), (16, 20), (16, 33), (16, 48), (17, 8), (17, 19), (17, 32), (17, 47), (18, 7), (18, 31), (18, 46), (19, 6), (19, 17), (19, 30), (19, 45), (20, 5), (20, 16), (20, 29), (20, 44), (21, 4), (21, 15), (21, 28), (21, 43), (22, 3), (22, 14), (22, 27), (22, 42), (23, 2), (23, 13), (23, 26), (23, 41), (24, 1), (24, 12), (24, 25), (24, 40), (25, 11), (25, 24), (25, 39), (26, 10), (26, 23), (26, 38), (27, 9), (27, 22), (27, 37), (28, 8), (28, 21), (28, 36), (29, 7), (29, 20), (29, 35), (30, 6), (30, 19), (30, 34), (31, 5), (31, 18), (31, 33), (32, 4), (32, 17), (32, 49), (33, 3), (33, 16), (33, 31), (33, 48), (34, 2), (34, 15), (34, 30), (34, 47), (35, 1), (35, 14), (35, 29), (35, 46), (36, 13), (36, 28), (36, 45), (37, 12), (37, 27), (37, 44), (38, 11), (38, 26), (38, 43), (39, 10), (39, 25), (39, 42), (40, 9), (40, 24), (40, 41), (41, 8), (41, 23), (41, 40), (42, 7), (42, 22), (42, 39), (43, 6), (43, 21), (43, 38), (44, 5), (44, 20), (44, 37), (45, 4), (45, 19), (45, 36), (46, 3), (46, 18), (46, 35), (47, 2), (47, 17), (47, 34), (48, 1), (48, 16), (48, 33), (49, 15), (49, 32)]\n",
      "--------------------\n",
      "{1: [3, 8, 15, 24, 35, 48], 2: [7, 14, 23, 34, 47], 3: [1, 6, 13, 22, 33, 46], 4: [5, 12, 21, 32, 45], 5: [4, 11, 20, 31, 44], 6: [3, 10, 19, 30, 43], 7: [2, 9, 18, 29, 42], 8: [1, 17, 28, 41], 9: [7, 16, 27, 40], 10: [6, 15, 26, 39], 11: [5, 14, 25, 38], 12: [4, 13, 24, 37], 13: [3, 12, 23, 36], 14: [2, 11, 22, 35], 15: [1, 10, 21, 34, 49], 16: [9, 20, 33, 48], 17: [8, 19, 32, 47], 18: [7, 31, 46], 19: [6, 17, 30, 45], 20: [5, 16, 29, 44], 21: [4, 15, 28, 43], 22: [3, 14, 27, 42], 23: [2, 13, 26, 41], 24: [1, 12, 25, 40], 25: [11, 24, 39], 26: [10, 23, 38], 27: [9, 22, 37], 28: [8, 21, 36], 29: [7, 20, 35], 30: [6, 19, 34], 31: [5, 18, 33], 32: [4, 17, 49], 33: [3, 16, 31, 48], 34: [2, 15, 30, 47], 35: [1, 14, 29, 46], 36: [13, 28, 45], 37: [12, 27, 44], 38: [11, 26, 43], 39: [10, 25, 42], 40: [9, 24, 41], 41: [8, 23, 40], 42: [7, 22, 39], 43: [6, 21, 38], 44: [5, 20, 37], 45: [4, 19, 36], 46: [3, 18, 35], 47: [2, 17, 34], 48: [1, 16, 33], 49: [15, 32]}\n",
      "--------------------\n",
      "Final :  [1, 3, 6, 10, 15, 21, 43, 38, 26, 23, 2, 7, 18, 46, 35, 29, 20, 44, 37, 27, 9, 16, 48, 33, 31, 5, 11, 14, 22, 42, 39, 25, 24, 40, 41, 8, 28, 36, 13, 12, 4, 45, 19, 30, 34, 47, 17, 32, 49]\n",
      "Wall time: 9min 14s\n"
     ]
    }
   ],
   "metadata": {}
  },
  {
   "cell_type": "code",
   "execution_count": 1,
   "metadata": {},
   "outputs": [],
   "source": [
    "def montar_sum(res, num):\n",
    "    for y in num:\n",
    "        if ((res[-1]+y)**0.5).is_integer():\n",
    "            montar_sum(res.append(y), num.remove(y))\n",
    "    return res\n",
    "\n",
    "def square_sum(n):\n",
    "    for x in range(1, n+1):\n",
    "        num = [k for k in range(1, n+1) if k != x]\n",
    "        res = [x]\n",
    "        sz = len(num)\n",
    "        for y in num:\n",
    "            if ((res[-1]+y)**0.5).is_integer():\n",
    "                montar_sum(res.append(y), num.remove(y))\n",
    "        if len(res) == n:\n",
    "            return res        \n",
    "    return False"
   ]
  },
  {
   "cell_type": "code",
   "execution_count": 2,
   "metadata": {
    "tags": []
   },
   "outputs": [
    {
     "output_type": "error",
     "ename": "TypeError",
     "evalue": "'NoneType' object is not iterable",
     "traceback": [
      "\u001b[1;31m---------------------------------------------------------------------------\u001b[0m",
      "\u001b[1;31mTypeError\u001b[0m                                 Traceback (most recent call last)",
      "\u001b[1;32m<ipython-input-2-a758c4a177a5>\u001b[0m in \u001b[0;36m<module>\u001b[1;34m\u001b[0m\n\u001b[0;32m      1\u001b[0m \u001b[0mn\u001b[0m\u001b[1;33m=\u001b[0m\u001b[1;36m15\u001b[0m\u001b[1;33m\u001b[0m\u001b[1;33m\u001b[0m\u001b[0m\n\u001b[1;32m----> 2\u001b[1;33m \u001b[0mprint\u001b[0m\u001b[1;33m(\u001b[0m\u001b[0msquare_sum\u001b[0m\u001b[1;33m(\u001b[0m\u001b[0mn\u001b[0m\u001b[1;33m)\u001b[0m\u001b[1;33m)\u001b[0m\u001b[1;33m\u001b[0m\u001b[1;33m\u001b[0m\u001b[0m\n\u001b[0m",
      "\u001b[1;32m<ipython-input-1-8fa47f6e1eb2>\u001b[0m in \u001b[0;36msquare_sum\u001b[1;34m(n)\u001b[0m\n\u001b[0;32m     12\u001b[0m         \u001b[1;32mfor\u001b[0m \u001b[0my\u001b[0m \u001b[1;32min\u001b[0m \u001b[0mnum\u001b[0m\u001b[1;33m:\u001b[0m\u001b[1;33m\u001b[0m\u001b[1;33m\u001b[0m\u001b[0m\n\u001b[0;32m     13\u001b[0m             \u001b[1;32mif\u001b[0m \u001b[1;33m(\u001b[0m\u001b[1;33m(\u001b[0m\u001b[0mres\u001b[0m\u001b[1;33m[\u001b[0m\u001b[1;33m-\u001b[0m\u001b[1;36m1\u001b[0m\u001b[1;33m]\u001b[0m\u001b[1;33m+\u001b[0m\u001b[0my\u001b[0m\u001b[1;33m)\u001b[0m\u001b[1;33m**\u001b[0m\u001b[1;36m0.5\u001b[0m\u001b[1;33m)\u001b[0m\u001b[1;33m.\u001b[0m\u001b[0mis_integer\u001b[0m\u001b[1;33m(\u001b[0m\u001b[1;33m)\u001b[0m\u001b[1;33m:\u001b[0m\u001b[1;33m\u001b[0m\u001b[1;33m\u001b[0m\u001b[0m\n\u001b[1;32m---> 14\u001b[1;33m                 \u001b[0mmontar_sum\u001b[0m\u001b[1;33m(\u001b[0m\u001b[0mres\u001b[0m\u001b[1;33m.\u001b[0m\u001b[0mappend\u001b[0m\u001b[1;33m(\u001b[0m\u001b[0my\u001b[0m\u001b[1;33m)\u001b[0m\u001b[1;33m,\u001b[0m \u001b[0mnum\u001b[0m\u001b[1;33m.\u001b[0m\u001b[0mremove\u001b[0m\u001b[1;33m(\u001b[0m\u001b[0my\u001b[0m\u001b[1;33m)\u001b[0m\u001b[1;33m)\u001b[0m\u001b[1;33m\u001b[0m\u001b[1;33m\u001b[0m\u001b[0m\n\u001b[0m\u001b[0;32m     15\u001b[0m         \u001b[1;32mif\u001b[0m \u001b[0mlen\u001b[0m\u001b[1;33m(\u001b[0m\u001b[0mres\u001b[0m\u001b[1;33m)\u001b[0m \u001b[1;33m==\u001b[0m \u001b[0mn\u001b[0m\u001b[1;33m:\u001b[0m\u001b[1;33m\u001b[0m\u001b[1;33m\u001b[0m\u001b[0m\n\u001b[0;32m     16\u001b[0m             \u001b[1;32mreturn\u001b[0m \u001b[0mres\u001b[0m\u001b[1;33m\u001b[0m\u001b[1;33m\u001b[0m\u001b[0m\n",
      "\u001b[1;32m<ipython-input-1-8fa47f6e1eb2>\u001b[0m in \u001b[0;36mmontar_sum\u001b[1;34m(res, num)\u001b[0m\n\u001b[0;32m      1\u001b[0m \u001b[1;32mdef\u001b[0m \u001b[0mmontar_sum\u001b[0m\u001b[1;33m(\u001b[0m\u001b[0mres\u001b[0m\u001b[1;33m,\u001b[0m \u001b[0mnum\u001b[0m\u001b[1;33m)\u001b[0m\u001b[1;33m:\u001b[0m\u001b[1;33m\u001b[0m\u001b[1;33m\u001b[0m\u001b[0m\n\u001b[1;32m----> 2\u001b[1;33m     \u001b[1;32mfor\u001b[0m \u001b[0my\u001b[0m \u001b[1;32min\u001b[0m \u001b[0mnum\u001b[0m\u001b[1;33m:\u001b[0m\u001b[1;33m\u001b[0m\u001b[1;33m\u001b[0m\u001b[0m\n\u001b[0m\u001b[0;32m      3\u001b[0m         \u001b[1;32mif\u001b[0m \u001b[1;33m(\u001b[0m\u001b[1;33m(\u001b[0m\u001b[0mres\u001b[0m\u001b[1;33m[\u001b[0m\u001b[1;33m-\u001b[0m\u001b[1;36m1\u001b[0m\u001b[1;33m]\u001b[0m\u001b[1;33m+\u001b[0m\u001b[0my\u001b[0m\u001b[1;33m)\u001b[0m\u001b[1;33m**\u001b[0m\u001b[1;36m0.5\u001b[0m\u001b[1;33m)\u001b[0m\u001b[1;33m.\u001b[0m\u001b[0mis_integer\u001b[0m\u001b[1;33m(\u001b[0m\u001b[1;33m)\u001b[0m\u001b[1;33m:\u001b[0m\u001b[1;33m\u001b[0m\u001b[1;33m\u001b[0m\u001b[0m\n\u001b[0;32m      4\u001b[0m             \u001b[0mmontar_sum\u001b[0m\u001b[1;33m(\u001b[0m\u001b[0mres\u001b[0m\u001b[1;33m.\u001b[0m\u001b[0mappend\u001b[0m\u001b[1;33m(\u001b[0m\u001b[0my\u001b[0m\u001b[1;33m)\u001b[0m\u001b[1;33m,\u001b[0m \u001b[0mnum\u001b[0m\u001b[1;33m.\u001b[0m\u001b[0mremove\u001b[0m\u001b[1;33m(\u001b[0m\u001b[0my\u001b[0m\u001b[1;33m)\u001b[0m\u001b[1;33m)\u001b[0m\u001b[1;33m\u001b[0m\u001b[1;33m\u001b[0m\u001b[0m\n\u001b[0;32m      5\u001b[0m     \u001b[1;32mreturn\u001b[0m \u001b[0mres\u001b[0m\u001b[1;33m\u001b[0m\u001b[1;33m\u001b[0m\u001b[0m\n",
      "\u001b[1;31mTypeError\u001b[0m: 'NoneType' object is not iterable"
     ]
    }
   ],
   "source": [
    "n=15\n",
    "print(square_sum(n))"
   ]
  },
  {
   "cell_type": "code",
   "execution_count": null,
   "metadata": {},
   "outputs": [],
   "source": []
  }
 ],
 "metadata": {
  "orig_nbformat": 4,
  "language_info": {
   "name": "python",
   "version": "3.9.4"
  },
  "kernelspec": {
   "name": "python3",
   "display_name": "Python 3.9.4 64-bit"
  },
  "interpreter": {
   "hash": "63fd5069d213b44bf678585dea6b12cceca9941eaf7f819626cde1f2670de90d"
  }
 },
 "nbformat": 4,
 "nbformat_minor": 2
}